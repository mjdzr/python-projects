{
 "cells": [
  {
   "cell_type": "code",
   "execution_count": 7,
   "id": "fb0be477",
   "metadata": {},
   "outputs": [],
   "source": [
    "import pandas as pd\n",
    "import random\n",
    "from termcolor import colored\n",
    "import os\n",
    "import sys\n",
    "module_path = os.path.abspath(os.path.join('..'))\n",
    "if module_path not in sys.path:\n",
    "    sys.path.append(module_path)\n",
    "from src import utils"
   ]
  },
  {
   "cell_type": "code",
   "execution_count": 8,
   "id": "b634f574",
   "metadata": {},
   "outputs": [
    {
     "data": {
      "application/vnd.microsoft.datawrangler.viewer.v0+json": {
       "columns": [
        {
         "name": "index",
         "rawType": "int64",
         "type": "integer"
        },
        {
         "name": "word",
         "rawType": "object",
         "type": "string"
        },
        {
         "name": "count",
         "rawType": "int64",
         "type": "integer"
        }
       ],
       "conversionMethod": "pd.DataFrame",
       "ref": "150498d3-cea0-4c31-b4a3-52f162fc8b96",
       "rows": [
        [
         "0",
         "the",
         "23135851162"
        ],
        [
         "1",
         "of",
         "13151942776"
        ],
        [
         "2",
         "and",
         "12997637966"
        ],
        [
         "3",
         "to",
         "12136980858"
        ],
        [
         "4",
         "a",
         "9081174698"
        ],
        [
         "5",
         "in",
         "8469404971"
        ],
        [
         "6",
         "for",
         "5933321709"
        ],
        [
         "7",
         "is",
         "4705743816"
        ],
        [
         "8",
         "on",
         "3750423199"
        ],
        [
         "9",
         "that",
         "3400031103"
        ]
       ],
       "shape": {
        "columns": 2,
        "rows": 10
       }
      },
      "text/html": [
       "<div>\n",
       "<style scoped>\n",
       "    .dataframe tbody tr th:only-of-type {\n",
       "        vertical-align: middle;\n",
       "    }\n",
       "\n",
       "    .dataframe tbody tr th {\n",
       "        vertical-align: top;\n",
       "    }\n",
       "\n",
       "    .dataframe thead th {\n",
       "        text-align: right;\n",
       "    }\n",
       "</style>\n",
       "<table border=\"1\" class=\"dataframe\">\n",
       "  <thead>\n",
       "    <tr style=\"text-align: right;\">\n",
       "      <th></th>\n",
       "      <th>word</th>\n",
       "      <th>count</th>\n",
       "    </tr>\n",
       "  </thead>\n",
       "  <tbody>\n",
       "    <tr>\n",
       "      <th>0</th>\n",
       "      <td>the</td>\n",
       "      <td>23135851162</td>\n",
       "    </tr>\n",
       "    <tr>\n",
       "      <th>1</th>\n",
       "      <td>of</td>\n",
       "      <td>13151942776</td>\n",
       "    </tr>\n",
       "    <tr>\n",
       "      <th>2</th>\n",
       "      <td>and</td>\n",
       "      <td>12997637966</td>\n",
       "    </tr>\n",
       "    <tr>\n",
       "      <th>3</th>\n",
       "      <td>to</td>\n",
       "      <td>12136980858</td>\n",
       "    </tr>\n",
       "    <tr>\n",
       "      <th>4</th>\n",
       "      <td>a</td>\n",
       "      <td>9081174698</td>\n",
       "    </tr>\n",
       "    <tr>\n",
       "      <th>5</th>\n",
       "      <td>in</td>\n",
       "      <td>8469404971</td>\n",
       "    </tr>\n",
       "    <tr>\n",
       "      <th>6</th>\n",
       "      <td>for</td>\n",
       "      <td>5933321709</td>\n",
       "    </tr>\n",
       "    <tr>\n",
       "      <th>7</th>\n",
       "      <td>is</td>\n",
       "      <td>4705743816</td>\n",
       "    </tr>\n",
       "    <tr>\n",
       "      <th>8</th>\n",
       "      <td>on</td>\n",
       "      <td>3750423199</td>\n",
       "    </tr>\n",
       "    <tr>\n",
       "      <th>9</th>\n",
       "      <td>that</td>\n",
       "      <td>3400031103</td>\n",
       "    </tr>\n",
       "  </tbody>\n",
       "</table>\n",
       "</div>"
      ],
      "text/plain": [
       "   word        count\n",
       "0   the  23135851162\n",
       "1    of  13151942776\n",
       "2   and  12997637966\n",
       "3    to  12136980858\n",
       "4     a   9081174698\n",
       "5    in   8469404971\n",
       "6   for   5933321709\n",
       "7    is   4705743816\n",
       "8    on   3750423199\n",
       "9  that   3400031103"
      ]
     },
     "execution_count": 8,
     "metadata": {},
     "output_type": "execute_result"
    }
   ],
   "source": [
    "# initial settings\n",
    "word_len = 5\n",
    "limit = 1000\n",
    "\n",
    "# Read data\n",
    "data = pd.read_csv('../data/unigram_freq.csv')\n",
    "data.head(10)"
   ]
  },
  {
   "cell_type": "code",
   "execution_count": 9,
   "id": "734679aa",
   "metadata": {},
   "outputs": [
    {
     "data": {
      "text/plain": [
       "['ABOUT', 'OTHER', 'WHICH', 'THEIR', 'THERE']"
      ]
     },
     "execution_count": 9,
     "metadata": {},
     "output_type": "execute_result"
    }
   ],
   "source": [
    "# Filter for high frequency words with 5 letters only\n",
    "data_high_freq = utils.generate_word_frequency(data, word_len=word_len, limit=limit)\n",
    "data_high_freq = [word.upper() for word in data_high_freq]\n",
    "data_high_freq[:5]"
   ]
  },
  {
   "cell_type": "code",
   "execution_count": 10,
   "id": "ee4c2161",
   "metadata": {},
   "outputs": [
    {
     "name": "stdout",
     "output_type": "stream",
     "text": [
      "DYING\n"
     ]
    }
   ],
   "source": [
    "# Select a random word\n",
    "word = random.choice(data_high_freq)\n",
    "# word = word.upper()\n",
    "print(word)"
   ]
  },
  {
   "cell_type": "code",
   "execution_count": 14,
   "id": "867bd55a",
   "metadata": {},
   "outputs": [
    {
     "name": "stdout",
     "output_type": "stream",
     "text": [
      "\u001b[43m\u001b[30mN\u001b[0m\u001b[43m\u001b[30mI\u001b[0m\u001b[43m\u001b[30mG\u001b[0m\u001b[41m\u001b[30mH\u001b[0m\u001b[41m\u001b[30mT\u001b[0m\u001b[40m\u001b[97m\n",
      "6 guesses remaining.\n",
      "\u001b[0m\u001b[43m\u001b[30mN\u001b[0m\u001b[43m\u001b[30mI\u001b[0m\u001b[43m\u001b[30mG\u001b[0m\u001b[41m\u001b[30mH\u001b[0m\u001b[41m\u001b[30mT\u001b[0m\u001b[40m\u001b[97m\n",
      "5 guesses remaining.\n",
      "\u001b[0m\u001b[43m\u001b[30mN\u001b[0m\u001b[43m\u001b[30mI\u001b[0m\u001b[43m\u001b[30mG\u001b[0m\u001b[41m\u001b[30mH\u001b[0m\u001b[41m\u001b[30mT\u001b[0m\u001b[40m\u001b[97m\n",
      "4 guesses remaining.\n",
      "\u001b[0m\u001b[43m\u001b[30mN\u001b[0m\u001b[43m\u001b[30mI\u001b[0m\u001b[43m\u001b[30mG\u001b[0m\u001b[41m\u001b[30mH\u001b[0m\u001b[41m\u001b[30mT\u001b[0m\u001b[40m\u001b[97m\n",
      "3 guesses remaining.\n",
      "\u001b[0m\u001b[43m\u001b[30mN\u001b[0m\u001b[43m\u001b[30mI\u001b[0m\u001b[43m\u001b[30mG\u001b[0m\u001b[41m\u001b[30mH\u001b[0m\u001b[41m\u001b[30mT\u001b[0m\u001b[40m\u001b[97m\n",
      "2 guesses remaining.\n",
      "\u001b[0m\u001b[43m\u001b[30mN\u001b[0m\u001b[43m\u001b[30mI\u001b[0m\u001b[43m\u001b[30mG\u001b[0m\u001b[41m\u001b[30mH\u001b[0m\u001b[41m\u001b[30mT\u001b[0m\u001b[40m\u001b[97m\n",
      "1 guesses remaining.\n",
      "\u001b[0m\u001b[43m\u001b[30mN\u001b[0m\u001b[43m\u001b[30mI\u001b[0m\u001b[43m\u001b[30mG\u001b[0m\u001b[41m\u001b[30mH\u001b[0m\u001b[41m\u001b[30mT\u001b[0m\u001b[43m\u001b[30m\n",
      "You are out of guesses! The word was DYING.\u001b[0m"
     ]
    }
   ],
   "source": [
    "# Get user's guess\n",
    "num_guesses = 0\n",
    "max_guesses = 6\n",
    "while(True):\n",
    "    guess_word = input(f'Enter a {word_len} letter word or \"q\" to exit.')\n",
    "    guess_word = guess_word.upper()\n",
    "    \n",
    "    # Chicken\n",
    "    if guess_word == 'Q':\n",
    "        break\n",
    "\n",
    "    # Check number of letters\n",
    "    if len(guess_word) != word_len:\n",
    "        utils.print_grey(f'Number of letters is not {word_len}. Try again!', end = \"\\n\")\n",
    "        continue\n",
    "\n",
    "    # Check if the word is in the list\n",
    "    if guess_word not in data_high_freq:\n",
    "        utils.print_grey(f'{guess_word} is not in our word list. Try again!', end = \"\\n\")\n",
    "        continue\n",
    "\n",
    "    # Check if the word is correct\n",
    "    for w_letter, guess_letter in zip(word, guess_word):\n",
    "        if w_letter == guess_letter:\n",
    "            utils.print_success(guess_letter)\n",
    "        elif guess_letter in word:\n",
    "            utils.print_warning(guess_letter)\n",
    "        else:\n",
    "            utils.print_error(guess_letter)\n",
    "\n",
    "    # Print full success\n",
    "    if guess_word == word:\n",
    "        utils.print_success(f'\\nCongratulations! You guessed the word {word} in {num_guesses + 1} guesses.')\n",
    "        break\n",
    "\n",
    "    # Final checks\n",
    "    num_guesses += 1\n",
    "    if num_guesses > max_guesses:\n",
    "        utils.print_warning(f'\\nYou are out of guesses! The word was {word}.')\n",
    "        break\n",
    "    utils.print_grey(f'\\n{max_guesses - num_guesses + 1} guesses remaining.\\n')"
   ]
  }
 ],
 "metadata": {
  "kernelspec": {
   "display_name": "python-projects",
   "language": "python",
   "name": "python3"
  },
  "language_info": {
   "codemirror_mode": {
    "name": "ipython",
    "version": 3
   },
   "file_extension": ".py",
   "mimetype": "text/x-python",
   "name": "python",
   "nbconvert_exporter": "python",
   "pygments_lexer": "ipython3",
   "version": "3.10.16"
  }
 },
 "nbformat": 4,
 "nbformat_minor": 5
}
