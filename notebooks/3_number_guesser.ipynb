{
 "cells": [
  {
   "cell_type": "code",
   "execution_count": 27,
   "id": "9a97bec0",
   "metadata": {},
   "outputs": [],
   "source": [
    "import random\n",
    "\n",
    "# define the numeric function:\n",
    "def check_number_type(s):\n",
    "    try:\n",
    "        int(s)\n",
    "        return \"integer\"\n",
    "    except ValueError:\n",
    "        try:\n",
    "            float(s)\n",
    "            return \"float\"\n",
    "        except ValueError:\n",
    "            return \"NaN\""
   ]
  },
  {
   "cell_type": "code",
   "execution_count": 28,
   "id": "0d41e4df",
   "metadata": {},
   "outputs": [],
   "source": [
    "random_num = random.randint(1, 100)"
   ]
  },
  {
   "cell_type": "code",
   "execution_count": 31,
   "id": "4541b97b",
   "metadata": {},
   "outputs": [
    {
     "name": "stdout",
     "output_type": "stream",
     "text": [
      "You have entered a number but in the float format; please provide an integer number without float point.\n",
      "You have entered a number but in the float format; please provide an integer number without float point.\n",
      "You haven't entered a numeric value; please provide an integer value without float point and extra characters.\n",
      "Your number is not between 1 and 100; please try again\n",
      "Your number is not between 1 and 100; please try again\n",
      "Your number is not between 1 and 100; please try again\n",
      "Thank you for playing. See ya!\n"
     ]
    }
   ],
   "source": [
    "while True:\n",
    "    user_guess = input(\"Guess a number between 1 and 100 or press 'q' to quit: \")\n",
    "\n",
    "    # Guess conditions\n",
    "    if user_guess.lower() == 'q':\n",
    "        print(\"Thank you for playing. See ya!\")\n",
    "        break\n",
    "    elif check_number_type(user_guess) == 'NaN':\n",
    "        print(\"You haven't entered a numeric value; please provide an integer value without float point and extra characters.\")\n",
    "        continue\n",
    "    elif check_number_type(user_guess) == 'float':\n",
    "        print(\"You have entered a number but in the float format; please provide an integer number without float point.\")\n",
    "        continue\n",
    "\n",
    "    user_guess = int(user_guess)\n",
    "    if user_guess < 1 or user_guess > 100:\n",
    "        print(\"Your number is not between 1 and 100; please try again\")\n",
    "        continue\n"
   ]
  },
  {
   "cell_type": "code",
   "execution_count": null,
   "id": "8b88fa4d",
   "metadata": {},
   "outputs": [],
   "source": []
  },
  {
   "cell_type": "code",
   "execution_count": null,
   "id": "b4dd88f6",
   "metadata": {},
   "outputs": [],
   "source": []
  }
 ],
 "metadata": {
  "kernelspec": {
   "display_name": "python-projects",
   "language": "python",
   "name": "python3"
  },
  "language_info": {
   "codemirror_mode": {
    "name": "ipython",
    "version": 3
   },
   "file_extension": ".py",
   "mimetype": "text/x-python",
   "name": "python",
   "nbconvert_exporter": "python",
   "pygments_lexer": "ipython3",
   "version": "3.10.16"
  }
 },
 "nbformat": 4,
 "nbformat_minor": 5
}
