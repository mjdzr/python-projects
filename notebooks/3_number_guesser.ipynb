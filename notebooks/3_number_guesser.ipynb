{
 "cells": [
  {
   "cell_type": "code",
   "execution_count": 41,
   "id": "9a97bec0",
   "metadata": {},
   "outputs": [],
   "source": [
    "import random\n",
    "\n",
    "# define the numeric function:\n",
    "def check_number_type(s):\n",
    "    try:\n",
    "        s_int = int(s)\n",
    "        if s_int < 1 or s_int > 100:\n",
    "            print(\"Your number is not between 1 and 100; please try again\") \n",
    "            return False\n",
    "        return True\n",
    "    except ValueError:\n",
    "        try:\n",
    "            float(s)\n",
    "            print(\"You have entered a number but in the float format; please provide an integer number without float point.\")\n",
    "            return False\n",
    "\n",
    "        except ValueError:\n",
    "            print(\"You haven't entered a numeric value; please provide an integer value without float point and extra characters.\")\n",
    "            return False"
   ]
  },
  {
   "cell_type": "code",
   "execution_count": null,
   "id": "0d41e4df",
   "metadata": {},
   "outputs": [],
   "source": [
    "random_num = random.randint(1, 100)"
   ]
  },
  {
   "cell_type": "code",
   "execution_count": 46,
   "id": "4541b97b",
   "metadata": {},
   "outputs": [
    {
     "name": "stdout",
     "output_type": "stream",
     "text": [
      "Your number is not between 1 and 100; please try again\n",
      "Your number is not between 1 and 100; please try again\n",
      "You have entered a number but in the float format; please provide an integer number without float point.\n",
      "You haven't entered a numeric value; please provide an integer value without float point and extra characters.\n",
      "You haven't entered a numeric value; please provide an integer value without float point and extra characters.\n",
      "You haven't entered a numeric value; please provide an integer value without float point and extra characters.\n",
      "You haven't entered a numeric value; please provide an integer value without float point and extra characters.\n",
      "Thank you for playing. See ya!\n"
     ]
    }
   ],
   "source": [
    "# initialize the score\n",
    "score = 100\n",
    "\n",
    "while True:\n",
    "    user_guess = input(\"Guess a number between 1 and 100 or press 'q' to quit: \")\n",
    "\n",
    "    # Guess conditions\n",
    "    if user_guess.lower() == 'q':\n",
    "        print(\"Thank you for playing. See ya!\")\n",
    "        break\n",
    "\n",
    "    if not check_number_type(user_guess):\n",
    "        continue\n",
    "\n",
    "    user_guess = int(user_guess)\n",
    "\n",
    "    if random_num > user_guess:\n",
    "        print(\"Your guess is too low, please try again.\")\n",
    "    elif random_num < user_guess:\n",
    "        print(\"Your guess is too high, please try again.\")\n",
    "    else:\n",
    "        print('Congratulations! You guess the right number!')\n",
    "        print(f'Your score is: {score}')\n",
    "        break\n",
    "\n",
    "    score -= 10\n",
    "    score = max(score, 0)\n",
    "\n",
    "    if score == 0:\n",
    "        print(f\"Sorry! You lost the game! the number was {random_num}\")\n",
    "\n",
    "\n"
   ]
  }
 ],
 "metadata": {
  "kernelspec": {
   "display_name": "python-projects",
   "language": "python",
   "name": "python3"
  },
  "language_info": {
   "codemirror_mode": {
    "name": "ipython",
    "version": 3
   },
   "file_extension": ".py",
   "mimetype": "text/x-python",
   "name": "python",
   "nbconvert_exporter": "python",
   "pygments_lexer": "ipython3",
   "version": "3.10.16"
  }
 },
 "nbformat": 4,
 "nbformat_minor": 5
}
