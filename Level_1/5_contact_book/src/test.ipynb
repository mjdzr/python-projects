{
 "cells": [
  {
   "cell_type": "markdown",
   "id": "5339d9ce",
   "metadata": {},
   "source": [
    "- ContactBook class\n",
    "- Methods:\n",
    "  - add_contact (create)\n",
    "  - update_contact (update)\n",
    "  - remove_contact (delete)\n",
    "  - view_contacts (read)"
   ]
  },
  {
   "cell_type": "code",
   "execution_count": 74,
   "id": "2fb532aa",
   "metadata": {},
   "outputs": [],
   "source": [
    "from collections import defaultdict\n",
    "\n",
    "class ContactBook:\n",
    "\n",
    "    # Initialize empty book\n",
    "    def __init__(self):\n",
    "        self.contacts = defaultdict(dict)\n",
    "\n",
    "    # Add contact\n",
    "    def add_contact(self, name, phone, email=None):\n",
    "        if name in self.contacts:\n",
    "            print(\"Name already registered\")\n",
    "            return\n",
    "\n",
    "        self.contacts.update({\n",
    "            name:{\n",
    "                'phone': phone,\n",
    "                'email': email\n",
    "            }\n",
    "        })\n",
    "\n",
    "    # View contacts\n",
    "    def view_contacts(self):\n",
    "        for name, info in self.contacts.items():\n",
    "            print(f\"name: {name}\")\n",
    "            print(f\"Phone: {info['phone']}\")\n",
    "            print(f\"Email: {info['email']}\")\n",
    "            print(\"*\" * 50)\n",
    "\n",
    "\n"
   ]
  },
  {
   "cell_type": "code",
   "execution_count": 75,
   "id": "de906f5c",
   "metadata": {},
   "outputs": [],
   "source": [
    "book = ContactBook()"
   ]
  },
  {
   "cell_type": "code",
   "execution_count": 76,
   "id": "0148cba9",
   "metadata": {},
   "outputs": [],
   "source": [
    "book.add_contact(\n",
    "    name=\"Jane Smith2\",\n",
    "    phone=\"987-654-3214\",\n",
    "    email=\"example@example1.com\"\n",
    ")"
   ]
  },
  {
   "cell_type": "code",
   "execution_count": 77,
   "id": "a0768198",
   "metadata": {},
   "outputs": [
    {
     "name": "stdout",
     "output_type": "stream",
     "text": [
      "name: Jane Smith2\n",
      "Phone: 987-654-3214\n",
      "Email: example@example1.com\n",
      "**************************************************\n"
     ]
    }
   ],
   "source": [
    "book.view_contacts()"
   ]
  },
  {
   "cell_type": "code",
   "execution_count": null,
   "id": "49306482",
   "metadata": {},
   "outputs": [],
   "source": [
    "# book.update_contact(\n",
    "#     name=\"Jane Smith\",\n",
    "#     phone=\"123-456-7890\",\n",
    "#     email=\"newemail@example.com\"\n",
    "# )"
   ]
  },
  {
   "cell_type": "code",
   "execution_count": null,
   "id": "8f43acd4",
   "metadata": {},
   "outputs": [],
   "source": [
    "# book.remove_contact(\n",
    "#     name=\"Jane Smith\",\n",
    "#     phone=\"123-456-7890\",\n",
    "#     email=\"email@example.com\"\n",
    "# )"
   ]
  }
 ],
 "metadata": {
  "kernelspec": {
   "display_name": "python-projects",
   "language": "python",
   "name": "python3"
  },
  "language_info": {
   "codemirror_mode": {
    "name": "ipython",
    "version": 3
   },
   "file_extension": ".py",
   "mimetype": "text/x-python",
   "name": "python",
   "nbconvert_exporter": "python",
   "pygments_lexer": "ipython3",
   "version": "3.10.16"
  }
 },
 "nbformat": 4,
 "nbformat_minor": 5
}
