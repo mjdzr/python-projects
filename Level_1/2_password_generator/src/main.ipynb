{
 "cells": [
  {
   "cell_type": "markdown",
   "id": "ae466fce",
   "metadata": {},
   "source": [
    "TODO:\n",
    "\n",
    "- Parent: PasswordGenerator\n",
    "    - Abstract\n",
    "    - Methods: init (maybe), generate\n",
    "- RandomPasswordGenerator\n",
    "- MemorablePasswordGenerator\n",
    "- PinGenerator"
   ]
  },
  {
   "cell_type": "code",
   "execution_count": 12,
   "id": "d9aaafd4",
   "metadata": {},
   "outputs": [],
   "source": [
    "from abc import ABC, abstractmethod\n",
    "import random\n",
    "import string\n",
    "\n",
    "class PasswordGenerator(ABC):\n",
    "    @abstractmethod\n",
    "    def generate(self):\n",
    "        pass"
   ]
  },
  {
   "cell_type": "code",
   "execution_count": 22,
   "id": "3c39e426",
   "metadata": {},
   "outputs": [],
   "source": [
    "class PinGenerator(PasswordGenerator):\n",
    "    def __init__(self, length=4):\n",
    "        self.length = length\n",
    "\n",
    "    def generate(self):\n",
    "        return \"\".join([random.choice(string.digits) for _ in range(self.length)])"
   ]
  },
  {
   "cell_type": "code",
   "execution_count": 24,
   "id": "d514e767",
   "metadata": {},
   "outputs": [
    {
     "data": {
      "text/plain": [
       "'4538'"
      ]
     },
     "execution_count": 24,
     "metadata": {},
     "output_type": "execute_result"
    }
   ],
   "source": [
    "pin_generator = PinGenerator()\n",
    "pin_generator.generate()"
   ]
  }
 ],
 "metadata": {
  "kernelspec": {
   "display_name": "python-projects",
   "language": "python",
   "name": "python3"
  },
  "language_info": {
   "codemirror_mode": {
    "name": "ipython",
    "version": 3
   },
   "file_extension": ".py",
   "mimetype": "text/x-python",
   "name": "python",
   "nbconvert_exporter": "python",
   "pygments_lexer": "ipython3",
   "version": "3.10.16"
  }
 },
 "nbformat": 4,
 "nbformat_minor": 5
}
