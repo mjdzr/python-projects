{
 "cells": [
  {
   "cell_type": "markdown",
   "id": "ae466fce",
   "metadata": {},
   "source": [
    "TODO:\n",
    "\n",
    "- Parent: PasswordGenerator\n",
    "    - Abstract\n",
    "    - Methods: init (maybe), generate\n",
    "- RandomPasswordGenerator\n",
    "- MemorablePasswordGenerator\n",
    "- PinGenerator"
   ]
  },
  {
   "cell_type": "markdown",
   "id": "d0d79ef0",
   "metadata": {},
   "source": [
    "# Part 1: abstract and PinGenerator"
   ]
  },
  {
   "cell_type": "code",
   "execution_count": 121,
   "id": "d9aaafd4",
   "metadata": {},
   "outputs": [],
   "source": [
    "from abc import ABC, abstractmethod\n",
    "import random\n",
    "import string\n",
    "\n",
    "class PasswordGenerator(ABC):\n",
    "    @abstractmethod\n",
    "    def generate(self):\n",
    "        pass"
   ]
  },
  {
   "cell_type": "code",
   "execution_count": 122,
   "id": "3c39e426",
   "metadata": {},
   "outputs": [],
   "source": [
    "class PinGenerator(PasswordGenerator):\n",
    "    def __init__(self, length: int=4):\n",
    "        self.length = length\n",
    "\n",
    "    def generate(self) -> str:\n",
    "        return \"\".join([random.choice(string.digits) for _ in range(self.length)])"
   ]
  },
  {
   "cell_type": "code",
   "execution_count": 123,
   "id": "d514e767",
   "metadata": {},
   "outputs": [
    {
     "data": {
      "text/plain": [
       "'7370'"
      ]
     },
     "execution_count": 123,
     "metadata": {},
     "output_type": "execute_result"
    }
   ],
   "source": [
    "pin_generator = PinGenerator()\n",
    "pin_generator.generate()"
   ]
  },
  {
   "cell_type": "markdown",
   "id": "93494761",
   "metadata": {},
   "source": [
    "# Part 2 - RandomPasswordGenerator"
   ]
  },
  {
   "cell_type": "code",
   "execution_count": 124,
   "id": "76948e7f",
   "metadata": {},
   "outputs": [],
   "source": [
    "class RandomPasswordGenerator(PasswordGenerator):\n",
    "    def __init__(self, length: int = 16, include_numbers: bool = True, include_symbols: bool = True):\n",
    "        self.length = length\n",
    "        self.characters = string.ascii_letters\n",
    "        if include_numbers:\n",
    "            self.characters += string.digits\n",
    "        if include_symbols:\n",
    "            self.characters += string.punctuation\n",
    "\n",
    "    def generate(self) -> str:\n",
    "        return \"\".join([random.choice(self.characters) for _ in range(self.length)])"
   ]
  },
  {
   "cell_type": "code",
   "execution_count": 125,
   "id": "f381fc0c",
   "metadata": {},
   "outputs": [
    {
     "data": {
      "text/plain": [
       "'YJMLpAKheXzoZlkfKOojlLLtnsHQyGoI'"
      ]
     },
     "execution_count": 125,
     "metadata": {},
     "output_type": "execute_result"
    }
   ],
   "source": [
    "random_password_generator = RandomPasswordGenerator(length=32, include_numbers=False, include_symbols=False)\n",
    "random_password_generator.generate()"
   ]
  },
  {
   "cell_type": "markdown",
   "id": "0539cfe3",
   "metadata": {},
   "source": [
    "# Part 3 - MemorablePasswordGenerator"
   ]
  },
  {
   "cell_type": "code",
   "execution_count": 126,
   "id": "0e7cc45f",
   "metadata": {},
   "outputs": [],
   "source": [
    "class MemorablePasswordGenerator(PasswordGenerator):\n",
    "    def __init__(self, num_of_words: int = 4, sep: str = '-', capitalize: bool = False, min_word_size: int = 3):\n",
    "        self.num_of_words = num_of_words\n",
    "        self.separator = sep\n",
    "        self.capitalize = capitalize\n",
    "        self.vocabulary_list = nltk.corpus.words.words()\n",
    "        self.vocabulary_list = [word for word in self.vocabulary_list if len(word) >= min_word_size]\n",
    "\n",
    "\n",
    "    def generate(self):\n",
    "        password_words = [random.choice(self.vocabulary_list) for _ in range(self.num_of_words)]\n",
    "        if self.capitalize:\n",
    "            password_words = [word.upper() for word in password_words]\n",
    "\n",
    "        return self.separator.join(password_words)\n"
   ]
  },
  {
   "cell_type": "code",
   "execution_count": 127,
   "id": "11dc6692",
   "metadata": {},
   "outputs": [
    {
     "data": {
      "text/plain": [
       "'ATTACHEDLY-UNSOLIDIFIABLE-THEANTHROPOS-UNTRACERIED'"
      ]
     },
     "execution_count": 127,
     "metadata": {},
     "output_type": "execute_result"
    }
   ],
   "source": [
    "memorable_password_generator = MemorablePasswordGenerator(capitalize=True, min_word_size=10)\n",
    "memorable_password_generator.generate()"
   ]
  },
  {
   "cell_type": "code",
   "execution_count": null,
   "id": "c70d715e",
   "metadata": {},
   "outputs": [
    {
     "data": {
      "text/plain": [
       "ZipFilePathPointer('/Users/majid/nltk_data/corpora/words.zip', '')"
      ]
     },
     "execution_count": 131,
     "metadata": {},
     "output_type": "execute_result"
    }
   ],
   "source": []
  },
  {
   "cell_type": "code",
   "execution_count": 132,
   "id": "6a621961",
   "metadata": {},
   "outputs": [
    {
     "data": {
      "text/plain": [
       "ZipFilePathPointer('/Users/majid/nltk_data/corpora/words.zip', '')"
      ]
     },
     "execution_count": 132,
     "metadata": {},
     "output_type": "execute_result"
    }
   ],
   "source": [
    "import nltk\n",
    "nltk.data.find('corpora/words.zip')"
   ]
  },
  {
   "cell_type": "code",
   "execution_count": null,
   "id": "82606c35",
   "metadata": {},
   "outputs": [],
   "source": []
  }
 ],
 "metadata": {
  "kernelspec": {
   "display_name": "python-projects",
   "language": "python",
   "name": "python3"
  },
  "language_info": {
   "codemirror_mode": {
    "name": "ipython",
    "version": 3
   },
   "file_extension": ".py",
   "mimetype": "text/x-python",
   "name": "python",
   "nbconvert_exporter": "python",
   "pygments_lexer": "ipython3",
   "version": "3.10.16"
  }
 },
 "nbformat": 4,
 "nbformat_minor": 5
}
