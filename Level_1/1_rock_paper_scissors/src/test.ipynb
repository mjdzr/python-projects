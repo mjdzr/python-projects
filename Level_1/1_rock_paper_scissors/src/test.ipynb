{
 "cells": [
  {
   "cell_type": "code",
   "execution_count": null,
   "id": "3d7c60fa",
   "metadata": {},
   "outputs": [],
   "source": [
    "import random\n",
    "\n",
    "\n",
    "class RockPaperScissors:\n",
    "    def __init__(self, name):\n",
    "        self.choices = ['rock', 'paper', 'scissors']\n",
    "        self.player_name = name\n",
    "\n",
    "    # player's choice\n",
    "    def get_player_choice(self):\n",
    "        user_choice = input(f\"Enter your choice ({' | '.join(self.choices)})\")\n",
    "        user_choice = user_choice.lower()\n",
    "        if user_choice in self.choices:\n",
    "            return(user_choice)\n",
    "        print(f\"Selection not valid. Select from {' | '.join(self.choices)}\")\n",
    "        return(self.get_player_choice())\n",
    "\n",
    "    # Computer's choice\n",
    "    def get_computer_choice(self):\n",
    "        return random.choice(self.choices)\n",
    "\n",
    "    # Decide winner\n",
    "    def decide_winner(self, user_choice, computer_choice):\n",
    "        if user_choice == computer_choice:\n",
    "            return(\"It's a tie!\")\n",
    "\n",
    "        win_combinations = [('rock', 'scissors'), ('paper', 'rock'), ('scissors', 'paper')]\n",
    "        for win_comb in win_combinations:\n",
    "            if (user_choice == win_comb[0]) & (computer_choice == win_comb[1]):\n",
    "                return(\"Congratulations! You won!\")\n",
    "\n",
    "        return(\"Oh no! You lost :( Better luck next time.\")\n",
    "\n",
    "    def play(self):\n",
    "        user_choice = self.get_player_choice() \n",
    "        computer_choice = self.get_computer_choice()\n",
    "        print(f'Computer choice: {computer_choice}')\n",
    "        print(self.decide_winner(user_choice, computer_choice))"
   ]
  },
  {
   "cell_type": "code",
   "execution_count": null,
   "id": "eb3d073b",
   "metadata": {},
   "outputs": [
    {
     "name": "stdout",
     "output_type": "stream",
     "text": [
      "Computer choice: rock\n",
      "It's a tie!\n",
      "Computer choice: rock\n",
      "It's a tie!\n",
      "Computer choice: rock\n",
      "It's a tie!\n",
      "Computer choice: paper\n",
      "Oh no! You lost :( Better luck next time.\n",
      "Computer choice: rock\n",
      "It's a tie!\n"
     ]
    }
   ],
   "source": [
    "game = RockPaperScissors('mij')\n",
    "\n",
    "while True:\n",
    "    game.play()\n",
    "\n",
    "    continue_game = input(\"Press any key to play again, or press q to exit\")\n",
    "    if continue_game.lower() == 'q':\n",
    "        break"
   ]
  }
 ],
 "metadata": {
  "kernelspec": {
   "display_name": "python-projects",
   "language": "python",
   "name": "python3"
  },
  "language_info": {
   "codemirror_mode": {
    "name": "ipython",
    "version": 3
   },
   "file_extension": ".py",
   "mimetype": "text/x-python",
   "name": "python",
   "nbconvert_exporter": "python",
   "pygments_lexer": "ipython3",
   "version": "3.10.16"
  }
 },
 "nbformat": 4,
 "nbformat_minor": 5
}
