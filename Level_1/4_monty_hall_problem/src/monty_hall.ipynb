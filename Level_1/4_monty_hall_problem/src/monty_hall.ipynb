{
 "cells": [
  {
   "cell_type": "code",
   "execution_count": 8,
   "id": "b77b2d33",
   "metadata": {},
   "outputs": [],
   "source": [
    "\n",
    "import random\n",
    "\n",
    "\n",
    "# Define the montyhall function with switch and stay options\n",
    "def monty_hall(switch_doors: bool) -> bool:\n",
    "    # Define and shuffle doors\n",
    "    doors = ['car'] + ['goat'] * 2\n",
    "    random.shuffle(doors)\n",
    "\n",
    "    # Define user's choice and the door revealed by Monty\n",
    "    initial_choice = random.choice(range(len(doors)))\n",
    "    doors_revealed = [i for i in range(len(doors)) if i != initial_choice and doors[i] != 'car']\n",
    "    door_revealed = random.choice(doors_revealed)\n",
    "\n",
    "    # Return result based on user's choice\n",
    "    if switch_doors:\n",
    "        final_choice = [i for i in range(len(doors)) if i not in [initial_choice, door_revealed]][0]\n",
    "    else:\n",
    "        final_choice = initial_choice\n",
    "\n",
    "    return doors[final_choice] == 'car'"
   ]
  },
  {
   "cell_type": "code",
   "execution_count": 9,
   "id": "8c5a0908",
   "metadata": {},
   "outputs": [
    {
     "name": "stdout",
     "output_type": "stream",
     "text": [
      "Stay wins: 3265 out of 10000\n",
      "Switch wins: 6600 out of 10000\n"
     ]
    }
   ],
   "source": [
    "# Repeat the simulation 1000 times for both strategies\n",
    "stay_wins = sum(monty_hall(switch_doors=False) for _ in range(10000))\n",
    "switch_wins = sum(monty_hall(switch_doors=True) for _ in range(10000))\n",
    "\n",
    "# Print the results\n",
    "print(f\"Stay wins: {stay_wins} out of 10000\")\n",
    "print(f\"Switch wins: {switch_wins} out of 10000\")"
   ]
  },
  {
   "cell_type": "code",
   "execution_count": 10,
   "id": "6cf3c08e",
   "metadata": {},
   "outputs": [],
   "source": [
    "def simulate_game(n_simulations: int, print: str = \"ratio\") -> tuple:\n",
    "    \"\"\"\n",
    "    Simulate the Monty Hall game.\n",
    "\n",
    "    :param n_simulations: Number of simulations to run\n",
    "    :type n_simulations: int\n",
    "    :param print: If \"ratio\", return the ratio of wins with and without switching.\n",
    "                  If \"count\", return the count of wins with and without switching.\n",
    "    :type print: str, optional\n",
    "    :return: A tuple containing the results based on the specified print option\n",
    "    :rtype: tuple\n",
    "    \"\"\"\n",
    "    num_wins_with_switching = sum(monty_hall(switch_doors=True) for _ in range(n_simulations))\n",
    "    num_wins_without_switching = sum(monty_hall(switch_doors=False) for _ in range(n_simulations))\n",
    "\n",
    "    if print == \"ratio\":\n",
    "        return num_wins_with_switching / n_simulations, num_wins_without_switching / n_simulations\n",
    "    else:\n",
    "        return num_wins_with_switching, num_wins_without_switching"
   ]
  },
  {
   "cell_type": "code",
   "execution_count": 27,
   "id": "c73b0f08",
   "metadata": {},
   "outputs": [
    {
     "data": {
      "text/plain": [
       "(0.6699, 0.3232)"
      ]
     },
     "execution_count": 27,
     "metadata": {},
     "output_type": "execute_result"
    }
   ],
   "source": [
    "simulate_game(10000, print=\"ratio\")"
   ]
  }
 ],
 "metadata": {
  "kernelspec": {
   "display_name": "python-projects",
   "language": "python",
   "name": "python3"
  },
  "language_info": {
   "codemirror_mode": {
    "name": "ipython",
    "version": 3
   },
   "file_extension": ".py",
   "mimetype": "text/x-python",
   "name": "python",
   "nbconvert_exporter": "python",
   "pygments_lexer": "ipython3",
   "version": "3.10.16"
  }
 },
 "nbformat": 4,
 "nbformat_minor": 5
}
