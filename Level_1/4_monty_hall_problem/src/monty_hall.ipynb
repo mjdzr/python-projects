{
 "cells": [
  {
   "cell_type": "code",
   "execution_count": 103,
   "id": "b77b2d33",
   "metadata": {},
   "outputs": [],
   "source": [
    "import random\n",
    "\n",
    "\n",
    "# Define the montyhall function with switch and stay options\n",
    "def monty_hall(switch_doors: bool) -> bool:\n",
    "    # Define and shuffle doors\n",
    "    doors = ['car'] + ['goat'] * 2\n",
    "    random.shuffle(doors)\n",
    "\n",
    "    # Define user's choice and the door revealed by Monty\n",
    "    initial_choice = random.choice(range(len(doors)))\n",
    "    doors_revealed = [i for i in range(len(doors)) if i != initial_choice and doors[i] != 'car']\n",
    "    door_revealed = random.choice(doors_revealed)\n",
    "\n",
    "    # Return result based on user's choice\n",
    "    if switch_doors:\n",
    "        final_choice = [i for i in range(len(doors)) if i not in [initial_choice, door_revealed]][0]\n",
    "    else:\n",
    "        final_choice = initial_choice\n",
    "\n",
    "    return(doors[final_choice] == 'car')"
   ]
  },
  {
   "cell_type": "code",
   "execution_count": 128,
   "id": "8c5a0908",
   "metadata": {},
   "outputs": [
    {
     "data": {
      "text/plain": [
       "True"
      ]
     },
     "execution_count": 128,
     "metadata": {},
     "output_type": "execute_result"
    }
   ],
   "source": [
    "monty_hall(switch_doors=True)"
   ]
  }
 ],
 "metadata": {
  "kernelspec": {
   "display_name": "python-projects",
   "language": "python",
   "name": "python3"
  },
  "language_info": {
   "codemirror_mode": {
    "name": "ipython",
    "version": 3
   },
   "file_extension": ".py",
   "mimetype": "text/x-python",
   "name": "python",
   "nbconvert_exporter": "python",
   "pygments_lexer": "ipython3",
   "version": "3.10.16"
  }
 },
 "nbformat": 4,
 "nbformat_minor": 5
}
